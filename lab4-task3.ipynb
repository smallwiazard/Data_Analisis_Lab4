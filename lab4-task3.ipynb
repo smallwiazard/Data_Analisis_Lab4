{
 "cells": [
  {
   "cell_type": "code",
   "execution_count": 1,
   "id": "0686c3a5-8907-4676-92da-b8ccd4f3879d",
   "metadata": {},
   "outputs": [
    {
     "name": "stderr",
     "output_type": "stream",
     "text": [
      "C:\\Users\\Ivan_Wizard\\Desktop\\KPI\\venv\\lib\\site-packages\\tqdm\\auto.py:22: TqdmWarning: IProgress not found. Please update jupyter and ipywidgets. See https://ipywidgets.readthedocs.io/en/stable/user_install.html\n",
      "  from .autonotebook import tqdm as notebook_tqdm\n",
      "No model was supplied, defaulted to distilbert-base-uncased-finetuned-sst-2-english and revision af0f99b (https://huggingface.co/distilbert-base-uncased-finetuned-sst-2-english).\n",
      "Using a pipeline without specifying a model name and revision in production is not recommended.\n",
      "Downloading: 100%|██████████████████████████████████████████████████████████████████| 268M/268M [00:23<00:00, 11.3MB/s]\n",
      "C:\\Users\\Ivan_Wizard\\Desktop\\KPI\\venv\\lib\\site-packages\\huggingface_hub\\file_download.py:127: UserWarning: `huggingface_hub` cache-system uses symlinks by default to efficiently store duplicated files but your machine does not support them in C:\\Users\\Ivan_Wizard\\.cache\\huggingface\\hub. Caching files will still work but in a degraded version that might require more space on your disk. This warning can be disabled by setting the `HF_HUB_DISABLE_SYMLINKS_WARNING` environment variable. For more details, see https://huggingface.co/docs/huggingface_hub/how-to-cache#limitations.\n",
      "To support symlinks on Windows, you either need to activate Developer Mode or to run Python as an administrator. In order to see activate developer mode, see this article: https://docs.microsoft.com/en-us/windows/apps/get-started/enable-your-device-for-development\n",
      "  warnings.warn(message)\n",
      "All model checkpoint layers were used when initializing TFDistilBertForSequenceClassification.\n",
      "\n",
      "All the layers of TFDistilBertForSequenceClassification were initialized from the model checkpoint at distilbert-base-uncased-finetuned-sst-2-english.\n",
      "If your task is similar to the task the model of the checkpoint was trained on, you can already use TFDistilBertForSequenceClassification for predictions without further training.\n",
      "Downloading: 100%|██████████████████████████████████████████████████████████████████| 48.0/48.0 [00:00<00:00, 20.4kB/s]\n",
      "Downloading: 100%|███████████████████████████████████████████████████████████████████| 232k/232k [00:01<00:00, 187kB/s]\n"
     ]
    }
   ],
   "source": [
    "# Transformers installation\n",
    "#pip install transformers\n",
    "\n",
    "from transformers import pipeline\n",
    "classifier = pipeline('sentiment-analysis')"
   ]
  },
  {
   "cell_type": "code",
   "execution_count": 2,
   "id": "665d040b-295a-4dbd-98d0-01bbaeed71d4",
   "metadata": {},
   "outputs": [
    {
     "data": {
      "text/plain": [
       "[{'label': 'POSITIVE', 'score': 0.9864001274108887}]"
      ]
     },
     "execution_count": 2,
     "metadata": {},
     "output_type": "execute_result"
    }
   ],
   "source": [
    "txt_1 = 'Apple and Android`s rivalry is always a huge question to discuss'\n",
    "classifier(txt_1)"
   ]
  },
  {
   "cell_type": "code",
   "execution_count": 3,
   "id": "eb65a45d-1eca-4906-a3c9-b4cee0d9f50a",
   "metadata": {},
   "outputs": [
    {
     "data": {
      "text/plain": [
       "[{'label': 'POSITIVE', 'score': 0.999840497970581}]"
      ]
     },
     "execution_count": 3,
     "metadata": {},
     "output_type": "execute_result"
    }
   ],
   "source": [
    "txt_2 = 'Sea lions are pretty cool'\n",
    "classifier(txt_2)"
   ]
  },
  {
   "cell_type": "code",
   "execution_count": 4,
   "id": "06e5dd3e-ea3e-412e-95da-aa58006d3800",
   "metadata": {},
   "outputs": [
    {
     "name": "stderr",
     "output_type": "stream",
     "text": [
      "Some layers from the model checkpoint at distilbert-base-uncased-finetuned-sst-2-english were not used when initializing TFDistilBertForSequenceClassification: ['dropout_19']\n",
      "- This IS expected if you are initializing TFDistilBertForSequenceClassification from the checkpoint of a model trained on another task or with another architecture (e.g. initializing a BertForSequenceClassification model from a BertForPreTraining model).\n",
      "- This IS NOT expected if you are initializing TFDistilBertForSequenceClassification from the checkpoint of a model that you expect to be exactly identical (initializing a BertForSequenceClassification model from a BertForSequenceClassification model).\n",
      "Some layers of TFDistilBertForSequenceClassification were not initialized from the model checkpoint at distilbert-base-uncased-finetuned-sst-2-english and are newly initialized: ['dropout_39']\n",
      "You should probably TRAIN this model on a down-stream task to be able to use it for predictions and inference.\n"
     ]
    }
   ],
   "source": [
    "from transformers import AutoTokenizer, TFAutoModelForSequenceClassification\n",
    "model_name = \"distilbert-base-uncased-finetuned-sst-2-english\"\n",
    "model = TFAutoModelForSequenceClassification.from_pretrained(model_name)\n",
    "tokenizer = AutoTokenizer.from_pretrained(model_name)"
   ]
  },
  {
   "cell_type": "code",
   "execution_count": 5,
   "id": "6a7f0593-2244-4d13-84d4-e94569de6626",
   "metadata": {},
   "outputs": [],
   "source": [
    "inputs = tokenizer([txt_1, txt_2])"
   ]
  },
  {
   "cell_type": "code",
   "execution_count": 6,
   "id": "87865157-c839-4c1f-bf1e-a1b6181d3a8e",
   "metadata": {},
   "outputs": [
    {
     "data": {
      "text/plain": [
       "{'input_ids': [[101, 6207, 1998, 11924, 1036, 1055, 10685, 2003, 2467, 1037, 4121, 3160, 2000, 6848, 102], [101, 2712, 7212, 2024, 3492, 4658, 102]], 'attention_mask': [[1, 1, 1, 1, 1, 1, 1, 1, 1, 1, 1, 1, 1, 1, 1], [1, 1, 1, 1, 1, 1, 1]]}"
      ]
     },
     "execution_count": 6,
     "metadata": {},
     "output_type": "execute_result"
    }
   ],
   "source": [
    "inputs"
   ]
  },
  {
   "cell_type": "code",
   "execution_count": 7,
   "id": "7d11683c-70e5-4208-bcf8-50e8a96d2171",
   "metadata": {},
   "outputs": [],
   "source": [
    "inputs_with_padding = tokenizer([txt_1, txt_2], padding = True, truncation = True, max_length = 256, return_tensors=\"tf\")"
   ]
  },
  {
   "cell_type": "code",
   "execution_count": 8,
   "id": "c8063fe5-1dcf-4d3f-8b03-c04c235ae637",
   "metadata": {},
   "outputs": [
    {
     "data": {
      "text/plain": [
       "{'input_ids': <tf.Tensor: shape=(2, 15), dtype=int32, numpy=\n",
       "array([[  101,  6207,  1998, 11924,  1036,  1055, 10685,  2003,  2467,\n",
       "         1037,  4121,  3160,  2000,  6848,   102],\n",
       "       [  101,  2712,  7212,  2024,  3492,  4658,   102,     0,     0,\n",
       "            0,     0,     0,     0,     0,     0]])>, 'attention_mask': <tf.Tensor: shape=(2, 15), dtype=int32, numpy=\n",
       "array([[1, 1, 1, 1, 1, 1, 1, 1, 1, 1, 1, 1, 1, 1, 1],\n",
       "       [1, 1, 1, 1, 1, 1, 1, 0, 0, 0, 0, 0, 0, 0, 0]])>}"
      ]
     },
     "execution_count": 8,
     "metadata": {},
     "output_type": "execute_result"
    }
   ],
   "source": [
    "inputs_with_padding"
   ]
  },
  {
   "cell_type": "code",
   "execution_count": 9,
   "id": "fcdc3666-16ff-4239-bf1d-5210c859b79b",
   "metadata": {},
   "outputs": [],
   "source": [
    "outputs = model(inputs_with_padding)"
   ]
  },
  {
   "cell_type": "code",
   "execution_count": 10,
   "id": "a6169390-9b06-471b-b205-1c6cfcaa22ff",
   "metadata": {},
   "outputs": [
    {
     "data": {
      "text/plain": [
       "TFSequenceClassifierOutput(loss=None, logits=<tf.Tensor: shape=(2, 2), dtype=float32, numpy=\n",
       "array([[-2.1033661,  2.180639 ],\n",
       "       [-4.187025 ,  4.556323 ]], dtype=float32)>, hidden_states=None, attentions=None)"
      ]
     },
     "execution_count": 10,
     "metadata": {},
     "output_type": "execute_result"
    }
   ],
   "source": [
    "outputs"
   ]
  },
  {
   "cell_type": "code",
   "execution_count": 11,
   "id": "8a1e1c93-7c75-4522-804f-9640cf1f5c92",
   "metadata": {},
   "outputs": [],
   "source": [
    "import tensorflow as tf\n",
    "predictions = tf.nn.softmax(outputs[0], axis=-1)"
   ]
  },
  {
   "cell_type": "code",
   "execution_count": 12,
   "id": "133b5e04-83b2-42df-bc57-8c2de7e22076",
   "metadata": {},
   "outputs": [
    {
     "data": {
      "text/plain": [
       "<tf.Tensor: shape=(2, 2), dtype=float32, numpy=\n",
       "array([[1.3599825e-02, 9.8640013e-01],\n",
       "       [1.5949347e-04, 9.9984050e-01]], dtype=float32)>"
      ]
     },
     "execution_count": 12,
     "metadata": {},
     "output_type": "execute_result"
    }
   ],
   "source": [
    "predictions"
   ]
  },
  {
   "cell_type": "code",
   "execution_count": null,
   "id": "811597f7-450f-4e63-80f7-1282520ab247",
   "metadata": {},
   "outputs": [],
   "source": []
  }
 ],
 "metadata": {
  "kernelspec": {
   "display_name": "Python 3 (ipykernel)",
   "language": "python",
   "name": "python3"
  },
  "language_info": {
   "codemirror_mode": {
    "name": "ipython",
    "version": 3
   },
   "file_extension": ".py",
   "mimetype": "text/x-python",
   "name": "python",
   "nbconvert_exporter": "python",
   "pygments_lexer": "ipython3",
   "version": "3.9.10"
  }
 },
 "nbformat": 4,
 "nbformat_minor": 5
}
