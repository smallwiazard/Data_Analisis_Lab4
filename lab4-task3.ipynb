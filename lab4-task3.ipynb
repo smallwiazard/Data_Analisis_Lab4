{
 "cells": [
  {
   "cell_type": "code",
   "execution_count": null,
   "id": "0686c3a5-8907-4676-92da-b8ccd4f3879d",
   "metadata": {},
   "outputs": [
    {
     "name": "stderr",
     "output_type": "stream",
     "text": [
      "C:\\Users\\Ivan_Wizard\\Desktop\\KPI\\venv\\lib\\site-packages\\tqdm\\auto.py:22: TqdmWarning: IProgress not found. Please update jupyter and ipywidgets. See https://ipywidgets.readthedocs.io/en/stable/user_install.html\n",
      "  from .autonotebook import tqdm as notebook_tqdm\n",
      "No model was supplied, defaulted to distilbert-base-uncased-finetuned-sst-2-english and revision af0f99b (https://huggingface.co/distilbert-base-uncased-finetuned-sst-2-english).\n",
      "Using a pipeline without specifying a model name and revision in production is not recommended.\n",
      "Downloading: 100%|██████████████████████████████████████████████████████████████████| 268M/268M [00:23<00:00, 11.3MB/s]\n",
      "C:\\Users\\Ivan_Wizard\\Desktop\\KPI\\venv\\lib\\site-packages\\huggingface_hub\\file_download.py:127: UserWarning: `huggingface_hub` cache-system uses symlinks by default to efficiently store duplicated files but your machine does not support them in C:\\Users\\Ivan_Wizard\\.cache\\huggingface\\hub. Caching files will still work but in a degraded version that might require more space on your disk. This warning can be disabled by setting the `HF_HUB_DISABLE_SYMLINKS_WARNING` environment variable. For more details, see https://huggingface.co/docs/huggingface_hub/how-to-cache#limitations.\n",
      "To support symlinks on Windows, you either need to activate Developer Mode or to run Python as an administrator. In order to see activate developer mode, see this article: https://docs.microsoft.com/en-us/windows/apps/get-started/enable-your-device-for-development\n",
      "  warnings.warn(message)\n",
      "All model checkpoint layers were used when initializing TFDistilBertForSequenceClassification.\n",
      "\n",
      "All the layers of TFDistilBertForSequenceClassification were initialized from the model checkpoint at distilbert-base-uncased-finetuned-sst-2-english.\n",
      "If your task is similar to the task the model of the checkpoint was trained on, you can already use TFDistilBertForSequenceClassification for predictions without further training.\n",
      "Downloading: 100%|██████████████████████████████████████████████████████████████████| 48.0/48.0 [00:00<00:00, 20.4kB/s]"
     ]
    }
   ],
   "source": [
    "# Transformers installation\n",
    "#pip install transformers\n",
    "\n",
    "from transformers import pipeline\n",
    "classifier = pipeline('sentiment-analysis')"
   ]
  },
  {
   "cell_type": "code",
   "execution_count": null,
   "id": "665d040b-295a-4dbd-98d0-01bbaeed71d4",
   "metadata": {},
   "outputs": [],
   "source": [
    "txt_1 = 'Apple and Android`s rivalry is always a huge question to discuss'\n",
    "classifier(txt_1)"
   ]
  },
  {
   "cell_type": "code",
   "execution_count": null,
   "id": "eb65a45d-1eca-4906-a3c9-b4cee0d9f50a",
   "metadata": {},
   "outputs": [],
   "source": [
    "txt_2 = 'Sea lions are pretty cool'\n",
    "classifier(txt_2)"
   ]
  },
  {
   "cell_type": "code",
   "execution_count": null,
   "id": "06e5dd3e-ea3e-412e-95da-aa58006d3800",
   "metadata": {},
   "outputs": [],
   "source": [
    "from transformers import AutoTokenizer, TFAutoModelForSequenceClassification\n",
    "model_name = \"distilbert-base-uncased-finetuned-sst-2-english\"\n",
    "model = TFAutoModelForSequenceClassification.from_pretrained(model_name)\n",
    "tokenizer = AutoTokenizer.from_pretrained(model_name)"
   ]
  },
  {
   "cell_type": "code",
   "execution_count": null,
   "id": "6a7f0593-2244-4d13-84d4-e94569de6626",
   "metadata": {},
   "outputs": [],
   "source": [
    "inputs = tokenizer([txt_1, txt_2])"
   ]
  },
  {
   "cell_type": "code",
   "execution_count": null,
   "id": "87865157-c839-4c1f-bf1e-a1b6181d3a8e",
   "metadata": {},
   "outputs": [],
   "source": [
    "inputs"
   ]
  },
  {
   "cell_type": "code",
   "execution_count": null,
   "id": "7d11683c-70e5-4208-bcf8-50e8a96d2171",
   "metadata": {},
   "outputs": [],
   "source": [
    "inputs_with_padding = tokenizer([txt_1, txt_2], padding = True, truncation = True, max_length = 256, return_tensors=\"tf\")"
   ]
  },
  {
   "cell_type": "code",
   "execution_count": null,
   "id": "c8063fe5-1dcf-4d3f-8b03-c04c235ae637",
   "metadata": {},
   "outputs": [],
   "source": [
    "inputs_with_padding"
   ]
  },
  {
   "cell_type": "code",
   "execution_count": null,
   "id": "fcdc3666-16ff-4239-bf1d-5210c859b79b",
   "metadata": {},
   "outputs": [],
   "source": [
    "outputs = model(inputs_with_padding)"
   ]
  },
  {
   "cell_type": "code",
   "execution_count": null,
   "id": "a6169390-9b06-471b-b205-1c6cfcaa22ff",
   "metadata": {},
   "outputs": [],
   "source": [
    "outputs"
   ]
  },
  {
   "cell_type": "code",
   "execution_count": null,
   "id": "8a1e1c93-7c75-4522-804f-9640cf1f5c92",
   "metadata": {},
   "outputs": [],
   "source": [
    "import tensorflow as tf\n",
    "predictions = tf.nn.softmax(outputs[0], axis=-1)"
   ]
  },
  {
   "cell_type": "code",
   "execution_count": null,
   "id": "133b5e04-83b2-42df-bc57-8c2de7e22076",
   "metadata": {},
   "outputs": [],
   "source": [
    "predictions"
   ]
  },
  {
   "cell_type": "code",
   "execution_count": null,
   "id": "811597f7-450f-4e63-80f7-1282520ab247",
   "metadata": {},
   "outputs": [],
   "source": []
  }
 ],
 "metadata": {
  "kernelspec": {
   "display_name": "Python 3 (ipykernel)",
   "language": "python",
   "name": "python3"
  },
  "language_info": {
   "codemirror_mode": {
    "name": "ipython",
    "version": 3
   },
   "file_extension": ".py",
   "mimetype": "text/x-python",
   "name": "python",
   "nbconvert_exporter": "python",
   "pygments_lexer": "ipython3",
   "version": "3.9.10"
  }
 },
 "nbformat": 4,
 "nbformat_minor": 5
}
